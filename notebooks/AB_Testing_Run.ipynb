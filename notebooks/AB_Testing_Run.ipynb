{
 "cells": [
  {
   "cell_type": "code",
   "execution_count": 1,
   "metadata": {},
   "outputs": [
    {
     "name": "stdout",
     "output_type": "stream",
     "text": [
      "Base: C:\\Users\\Dhairr\\Dhairya Projects\\Ecommerce_AB_Testing_Project\n",
      "Reading: C:\\Users\\Dhairr\\Dhairya Projects\\Ecommerce_AB_Testing_Project\\data\\ab_data.csv\n",
      "\n",
      "Rows, Cols: (294480, 5)\n",
      "\n",
      "Columns: ['user_id', 'timestamp', 'group', 'landing_page', 'converted']\n",
      "\n",
      "Sample (top 5):\n"
     ]
    },
    {
     "data": {
      "text/html": [
       "<div>\n",
       "<style scoped>\n",
       "    .dataframe tbody tr th:only-of-type {\n",
       "        vertical-align: middle;\n",
       "    }\n",
       "\n",
       "    .dataframe tbody tr th {\n",
       "        vertical-align: top;\n",
       "    }\n",
       "\n",
       "    .dataframe thead th {\n",
       "        text-align: right;\n",
       "    }\n",
       "</style>\n",
       "<table border=\"1\" class=\"dataframe\">\n",
       "  <thead>\n",
       "    <tr style=\"text-align: right;\">\n",
       "      <th></th>\n",
       "      <th>user_id</th>\n",
       "      <th>timestamp</th>\n",
       "      <th>group</th>\n",
       "      <th>landing_page</th>\n",
       "      <th>converted</th>\n",
       "    </tr>\n",
       "  </thead>\n",
       "  <tbody>\n",
       "    <tr>\n",
       "      <th>0</th>\n",
       "      <td>851104</td>\n",
       "      <td>11:48.6</td>\n",
       "      <td>control</td>\n",
       "      <td>old_page</td>\n",
       "      <td>0</td>\n",
       "    </tr>\n",
       "    <tr>\n",
       "      <th>1</th>\n",
       "      <td>804228</td>\n",
       "      <td>01:45.2</td>\n",
       "      <td>control</td>\n",
       "      <td>old_page</td>\n",
       "      <td>0</td>\n",
       "    </tr>\n",
       "    <tr>\n",
       "      <th>2</th>\n",
       "      <td>661590</td>\n",
       "      <td>55:06.2</td>\n",
       "      <td>treatment</td>\n",
       "      <td>new_page</td>\n",
       "      <td>0</td>\n",
       "    </tr>\n",
       "    <tr>\n",
       "      <th>3</th>\n",
       "      <td>853541</td>\n",
       "      <td>28:03.1</td>\n",
       "      <td>treatment</td>\n",
       "      <td>new_page</td>\n",
       "      <td>0</td>\n",
       "    </tr>\n",
       "    <tr>\n",
       "      <th>4</th>\n",
       "      <td>864975</td>\n",
       "      <td>52:26.2</td>\n",
       "      <td>control</td>\n",
       "      <td>old_page</td>\n",
       "      <td>1</td>\n",
       "    </tr>\n",
       "  </tbody>\n",
       "</table>\n",
       "</div>"
      ],
      "text/plain": [
       "   user_id timestamp      group landing_page  converted\n",
       "0   851104   11:48.6    control     old_page          0\n",
       "1   804228   01:45.2    control     old_page          0\n",
       "2   661590   55:06.2  treatment     new_page          0\n",
       "3   853541   28:03.1  treatment     new_page          0\n",
       "4   864975   52:26.2    control     old_page          1"
      ]
     },
     "metadata": {},
     "output_type": "display_data"
    },
    {
     "name": "stdout",
     "output_type": "stream",
     "text": [
      "\n",
      "Required columns check:\n",
      "  Required: {'user_id', 'timestamp', 'converted', 'group'}\n",
      "  Missing : None ✅\n",
      "\n",
      "Group allocation (top 5):\n",
      "TREATMENT    147278\n",
      "CONTROL      147202\n",
      "Name: group, dtype: int64\n",
      "\n",
      "Converted value counts:\n",
      "0    259243\n",
      "1     35237\n",
      "Name: converted, dtype: int64\n",
      "\n",
      "Null overview for required columns (if present):\n",
      "  user_id: 0 nulls\n",
      "  timestamp: 177213 nulls\n",
      "  converted: 0 nulls\n",
      "  group: 0 nulls\n"
     ]
    }
   ],
   "source": [
    "# STEP 2 — Load the A/B dataset and do quick sanity checks\n",
    "# - Uses ab_data.csv as the main file\n",
    "# - Shows shape, columns, sample rows\n",
    "# - Verifies required columns exist (user_id, timestamp, group, converted)\n",
    "# - Quick look at group allocation and converted values\n",
    "\n",
    "from pathlib import Path\n",
    "import pandas as pd\n",
    "\n",
    "# Resolve project paths (notebook is inside /notebooks)\n",
    "NB = Path.cwd()\n",
    "BASE = NB.parent if NB.name.lower() == \"notebooks\" else NB\n",
    "DATA = BASE / \"data\"\n",
    "\n",
    "ab_path = DATA / \"ab_data.csv\"\n",
    "countries_path = DATA / \"countries.csv\"  # optional side file\n",
    "\n",
    "print(\"Base:\", BASE)\n",
    "print(\"Reading:\", ab_path)\n",
    "\n",
    "# Load (handle common encodings)\n",
    "df = pd.read_csv(ab_path, encoding=\"utf-8\", low_memory=False)\n",
    "\n",
    "print(\"\\nRows, Cols:\", df.shape)\n",
    "print(\"\\nColumns:\", list(df.columns))\n",
    "\n",
    "print(\"\\nSample (top 5):\")\n",
    "display(df.head())\n",
    "\n",
    "# Normalize obvious column names for the rest of the project\n",
    "# (only in-memory for now; we won't write anything yet)\n",
    "rename_map = {}\n",
    "cols_lower = [c.lower().strip() for c in df.columns]\n",
    "df.columns = cols_lower\n",
    "\n",
    "# Try to standardize typical variants to our required schema\n",
    "if \"variant\" in df.columns and \"group\" not in df.columns:\n",
    "    rename_map[\"variant\"] = \"group\"\n",
    "if \"treatment\" in df.columns and \"group\" not in df.columns:\n",
    "    rename_map[\"treatment\"] = \"group\"\n",
    "if \"purchased\" in df.columns and \"converted\" not in df.columns:\n",
    "    rename_map[\"purchased\"] = \"converted\"\n",
    "if \"purchase\" in df.columns and \"converted\" not in df.columns:\n",
    "    rename_map[\"purchase\"] = \"converted\"\n",
    "if \"event_time\" in df.columns and \"timestamp\" not in df.columns:\n",
    "    rename_map[\"event_time\"] = \"timestamp\"\n",
    "if \"user\" in df.columns and \"user_id\" not in df.columns:\n",
    "    rename_map[\"user\"] = \"user_id\"\n",
    "if rename_map:\n",
    "    df = df.rename(columns=rename_map)\n",
    "\n",
    "required = {\"user_id\",\"timestamp\",\"group\",\"converted\"}\n",
    "missing = required - set(df.columns)\n",
    "print(\"\\nRequired columns check:\")\n",
    "print(\"  Required:\", required)\n",
    "print(\"  Missing :\", missing if missing else \"None ✅\")\n",
    "\n",
    "# If timestamp exists, try to parse\n",
    "if \"timestamp\" in df.columns:\n",
    "    df[\"timestamp\"] = pd.to_datetime(df[\"timestamp\"], errors=\"coerce\")\n",
    "\n",
    "# Basic stats for the two key fields\n",
    "if \"group\" in df.columns:\n",
    "    df[\"group\"] = df[\"group\"].astype(str).str.upper()\n",
    "    print(\"\\nGroup allocation (top 5):\")\n",
    "    print(df[\"group\"].value_counts().head())\n",
    "\n",
    "if \"converted\" in df.columns:\n",
    "    # some datasets store as 0/1 ints, some as booleans, some as strings\n",
    "    try:\n",
    "        df[\"converted\"] = pd.to_numeric(df[\"converted\"], errors=\"coerce\").fillna(0).astype(int)\n",
    "    except Exception:\n",
    "        pass\n",
    "    print(\"\\nConverted value counts:\")\n",
    "    print(df[\"converted\"].value_counts(dropna=False))\n",
    "\n",
    "# Null overview for required columns (if present)\n",
    "print(\"\\nNull overview for required columns (if present):\")\n",
    "for c in required:\n",
    "    if c in df.columns:\n",
    "        print(f\"  {c}: {df[c].isna().sum()} nulls\")"
   ]
  },
  {
   "cell_type": "code",
   "execution_count": 2,
   "metadata": {},
   "outputs": [
    {
     "name": "stdout",
     "output_type": "stream",
     "text": [
      "Rows before dedupe: 294480, after dedupe: 293775\n",
      "\n",
      "Group counts:\n",
      "B    0.5\n",
      "A    0.5\n",
      "Name: group, dtype: float64\n",
      "\n",
      "Conversion counts (0 = not converted, 1 = converted):\n",
      "0    0.88\n",
      "1    0.12\n",
      "Name: converted, dtype: float64\n"
     ]
    }
   ],
   "source": [
    "# STEP 3 — Clean and prepare dataset for analysis\n",
    "# What this cell does:\n",
    "# - Normalizes group labels\n",
    "# - Ensures converted is 0/1 integer\n",
    "# - Drops duplicate rows\n",
    "# - Prints group distribution and conversion counts\n",
    "\n",
    "# 1) Normalize group values\n",
    "df['group'] = df['group'].astype(str).str.upper().replace({\n",
    "    'CONTROL': 'A',\n",
    "    'TREATMENT': 'B'\n",
    "})\n",
    "\n",
    "# 2) Ensure converted is 0/1 integer\n",
    "df['converted'] = pd.to_numeric(df['converted'], errors='coerce').fillna(0).astype(int)\n",
    "\n",
    "# 3) Drop duplicate rows (safety check)\n",
    "before = df.shape[0]\n",
    "df = df.drop_duplicates(subset=['user_id','timestamp','group'])\n",
    "after = df.shape[0]\n",
    "\n",
    "print(f\"Rows before dedupe: {before}, after dedupe: {after}\")\n",
    "\n",
    "# 4) Group allocation summary\n",
    "print(\"\\nGroup counts:\")\n",
    "print(df['group'].value_counts(normalize=True).round(3))\n",
    "\n",
    "# 5) Conversion summary\n",
    "print(\"\\nConversion counts (0 = not converted, 1 = converted):\")\n",
    "print(df['converted'].value_counts(normalize=True).round(3))"
   ]
  },
  {
   "cell_type": "code",
   "execution_count": 3,
   "metadata": {},
   "outputs": [
    {
     "name": "stdout",
     "output_type": "stream",
     "text": [
      "=== A/B Test Results ===\n",
      "Group A size: 146843, Conversion: 0.1204\n",
      "Group B size: 146932, Conversion: 0.1189\n",
      "Absolute diff (B - A): -0.0015\n",
      "Relative lift: -1.24%\n",
      "Z-score: -1.243\n",
      "P-value (one-sided): 0.893078\n",
      "95% CI for (pB - pA): [-0.0038, 0.0009]\n"
     ]
    }
   ],
   "source": [
    "# STEP 4 — Hypothesis + A/B Test\n",
    "# Hypothesis (business terms):\n",
    "# H0 (null): Conversion rate for A = Conversion rate for B\n",
    "# H1 (alt): Conversion rate for B > Conversion rate for A (one-sided)\n",
    "\n",
    "import math\n",
    "from math import sqrt\n",
    "from scipy.stats import norm\n",
    "\n",
    "# Split groups\n",
    "A = df[df['group'] == 'A']\n",
    "B = df[df['group'] == 'B']\n",
    "\n",
    "nA, nB = len(A), len(B)\n",
    "pA, pB = A['converted'].mean(), B['converted'].mean()\n",
    "\n",
    "# Two-proportion z-test\n",
    "p_pool = (A['converted'].sum() + B['converted'].sum()) / (nA + nB)\n",
    "se = math.sqrt(p_pool * (1 - p_pool) * (1/nA + 1/nB))\n",
    "z = (pB - pA) / se\n",
    "p_value = 1 - norm.cdf(z)   # one-sided test\n",
    "\n",
    "# 95% CI for difference (Wald)\n",
    "diff = pB - pA\n",
    "z_crit = norm.ppf(0.975)\n",
    "ci_low = diff - z_crit * se\n",
    "ci_high = diff + z_crit * se\n",
    "lift_rel = (diff / pA) * 100\n",
    "\n",
    "print(\"=== A/B Test Results ===\")\n",
    "print(f\"Group A size: {nA}, Conversion: {pA:.4f}\")\n",
    "print(f\"Group B size: {nB}, Conversion: {pB:.4f}\")\n",
    "print(f\"Absolute diff (B - A): {diff:.4f}\")\n",
    "print(f\"Relative lift: {lift_rel:.2f}%\")\n",
    "print(f\"Z-score: {z:.3f}\")\n",
    "print(f\"P-value (one-sided): {p_value:.6f}\")\n",
    "print(f\"95% CI for (pB - pA): [{ci_low:.4f}, {ci_high:.4f}]\")"
   ]
  },
  {
   "cell_type": "code",
   "execution_count": 9,
   "metadata": {},
   "outputs": [
    {
     "data": {
      "image/png": "[encoded data removed]",
      "text/plain": [
       "<Figure size 432x288 with 1 Axes>"
      ]
     },
     "metadata": {
      "needs_background": "light"
     },
     "output_type": "display_data"
    },
    {
     "name": "stdout",
     "output_type": "stream",
     "text": [
      "Clean chart saved to: C:\\Users\\Dhairr\\Dhairya Projects\\Ecommerce_AB_Testing_Project\\image\\conversion_rate_by_group_clean.png\n"
     ]
    }
   ],
   "source": [
    "# STEP 5 — Conversion Rate by Group chart\n",
    "\n",
    "import matplotlib.pyplot as plt\n",
    "\n",
    "conv_rates = df.groupby('group')['converted'].mean().sort_index()\n",
    "\n",
    "plt.figure(figsize=(6,4))\n",
    "bars = plt.bar(conv_rates.index, conv_rates.values, color=['#1f77b4','#ff7f0e'])\n",
    "\n",
    "plt.title(\"Conversion Rate by Group (A vs B)\")\n",
    "plt.ylabel(\"Conversion Rate\")\n",
    "\n",
    "# Add labels above bars with padding so they don't cut off\n",
    "for bar in bars:\n",
    "    y = bar.get_height()\n",
    "    plt.text(bar.get_x() + bar.get_width()/2,\n",
    "             y + 0.002,                 # more vertical padding\n",
    "             f\"{y:.2%}\",                # format as %\n",
    "             ha='center', va='bottom', fontsize=11, weight='bold')\n",
    "\n",
    "# Extend y-axis limit a bit so text is inside the frame\n",
    "plt.ylim(0, conv_rates.max() + 0.01)\n",
    "\n",
    "# Save to /image\n",
    "img_path = IMAGES / \"conversion_rate_by_group_clean.png\"\n",
    "plt.tight_layout()\n",
    "plt.savefig(img_path, dpi=150)\n",
    "plt.show()\n",
    "\n",
    "print(\"Clean chart saved to:\", img_path)"
   ]
  },
  {
   "cell_type": "code",
   "execution_count": 10,
   "metadata": {},
   "outputs": [
    {
     "name": "stdout",
     "output_type": "stream",
     "text": [
      "=== Chi-Square Test ===\n",
      "Contingency Table (Observed):\n",
      "converted       0      1\n",
      "group                   \n",
      "A          129168  17675\n",
      "B          129465  17467\n",
      "\n",
      "Chi2 Statistic: 1.531\n",
      "Degrees of Freedom: 1\n",
      "P-value: 0.215945\n",
      "\n",
      "Expected Frequencies:\n",
      "[[129277.32318611  17565.67681389]\n",
      " [129355.67681389  17576.32318611]]\n"
     ]
    }
   ],
   "source": [
    "# STEP 6 — Chi-Square Test of Independence\n",
    "# Purpose:\n",
    "# - Tests whether conversion outcome (0/1) is independent of group (A vs B)\n",
    "# - Another way to validate the relationship between group assignment and conversion\n",
    "\n",
    "import scipy.stats as stats\n",
    "import pandas as pd\n",
    "\n",
    "# Build contingency table\n",
    "contingency = pd.crosstab(df['group'], df['converted'])\n",
    "chi2, p, dof, expected = stats.chi2_contingency(contingency)\n",
    "\n",
    "print(\"=== Chi-Square Test ===\")\n",
    "print(\"Contingency Table (Observed):\")\n",
    "print(contingency)\n",
    "\n",
    "print(f\"\\nChi2 Statistic: {chi2:.3f}\")\n",
    "print(f\"Degrees of Freedom: {dof}\")\n",
    "print(f\"P-value: {p:.6f}\")\n",
    "\n",
    "print(\"\\nExpected Frequencies:\")\n",
    "print(expected)"
   ]
  },
  {
   "cell_type": "code",
   "execution_count": 12,
   "metadata": {},
   "outputs": [
    {
     "name": "stdout",
     "output_type": "stream",
     "text": [
      "Funnel by landing_page\n"
     ]
    },
    {
     "data": {
      "text/html": [
       "<div>\n",
       "<style scoped>\n",
       "    .dataframe tbody tr th:only-of-type {\n",
       "        vertical-align: middle;\n",
       "    }\n",
       "\n",
       "    .dataframe tbody tr th {\n",
       "        vertical-align: top;\n",
       "    }\n",
       "\n",
       "    .dataframe thead th {\n",
       "        text-align: right;\n",
       "    }\n",
       "</style>\n",
       "<table border=\"1\" class=\"dataframe\">\n",
       "  <thead>\n",
       "    <tr style=\"text-align: right;\">\n",
       "      <th></th>\n",
       "      <th>exposed</th>\n",
       "      <th>converted</th>\n",
       "      <th>conv_rate</th>\n",
       "    </tr>\n",
       "    <tr>\n",
       "      <th>landing_page</th>\n",
       "      <th></th>\n",
       "      <th></th>\n",
       "      <th></th>\n",
       "    </tr>\n",
       "  </thead>\n",
       "  <tbody>\n",
       "    <tr>\n",
       "      <th>new_page</th>\n",
       "      <td>146891</td>\n",
       "      <td>17448</td>\n",
       "      <td>0.118782</td>\n",
       "    </tr>\n",
       "    <tr>\n",
       "      <th>old_page</th>\n",
       "      <td>146884</td>\n",
       "      <td>17694</td>\n",
       "      <td>0.120462</td>\n",
       "    </tr>\n",
       "  </tbody>\n",
       "</table>\n",
       "</div>"
      ],
      "text/plain": [
       "              exposed  converted  conv_rate\n",
       "landing_page                               \n",
       "new_page       146891      17448   0.118782\n",
       "old_page       146884      17694   0.120462"
      ]
     },
     "metadata": {},
     "output_type": "display_data"
    },
    {
     "data": {
      "image/png": "[encoded data removed]",
      "text/plain": [
       "<Figure size 504x288 with 1 Axes>"
      ]
     },
     "metadata": {
      "needs_background": "light"
     },
     "output_type": "display_data"
    },
    {
     "name": "stdout",
     "output_type": "stream",
     "text": [
      "Saved: C:\\Users\\Dhairr\\Dhairya Projects\\Ecommerce_AB_Testing_Project\\image\\funnel_by_landing_page.png\n"
     ]
    },
    {
     "data": {
      "image/png": "[encoded data removed]",
      "text/plain": [
       "<Figure size 432x288 with 1 Axes>"
      ]
     },
     "metadata": {
      "needs_background": "light"
     },
     "output_type": "display_data"
    },
    {
     "name": "stdout",
     "output_type": "stream",
     "text": [
      "Saved: C:\\Users\\Dhairr\\Dhairya Projects\\Ecommerce_AB_Testing_Project\\image\\conversion_rate_by_landing_page.png\n",
      "\n",
      "Funnel by group\n"
     ]
    },
    {
     "data": {
      "text/html": [
       "<div>\n",
       "<style scoped>\n",
       "    .dataframe tbody tr th:only-of-type {\n",
       "        vertical-align: middle;\n",
       "    }\n",
       "\n",
       "    .dataframe tbody tr th {\n",
       "        vertical-align: top;\n",
       "    }\n",
       "\n",
       "    .dataframe thead th {\n",
       "        text-align: right;\n",
       "    }\n",
       "</style>\n",
       "<table border=\"1\" class=\"dataframe\">\n",
       "  <thead>\n",
       "    <tr style=\"text-align: right;\">\n",
       "      <th></th>\n",
       "      <th>exposed</th>\n",
       "      <th>converted</th>\n",
       "      <th>conv_rate</th>\n",
       "    </tr>\n",
       "    <tr>\n",
       "      <th>group</th>\n",
       "      <th></th>\n",
       "      <th></th>\n",
       "      <th></th>\n",
       "    </tr>\n",
       "  </thead>\n",
       "  <tbody>\n",
       "    <tr>\n",
       "      <th>A</th>\n",
       "      <td>146843</td>\n",
       "      <td>17675</td>\n",
       "      <td>0.120367</td>\n",
       "    </tr>\n",
       "    <tr>\n",
       "      <th>B</th>\n",
       "      <td>146932</td>\n",
       "      <td>17467</td>\n",
       "      <td>0.118878</td>\n",
       "    </tr>\n",
       "  </tbody>\n",
       "</table>\n",
       "</div>"
      ],
      "text/plain": [
       "       exposed  converted  conv_rate\n",
       "group                               \n",
       "A       146843      17675   0.120367\n",
       "B       146932      17467   0.118878"
      ]
     },
     "metadata": {},
     "output_type": "display_data"
    },
    {
     "data": {
      "image/png": "[encoded data removed]",
      "text/plain": [
       "<Figure size 504x288 with 1 Axes>"
      ]
     },
     "metadata": {
      "needs_background": "light"
     },
     "output_type": "display_data"
    },
    {
     "name": "stdout",
     "output_type": "stream",
     "text": [
      "Saved: C:\\Users\\Dhairr\\Dhairya Projects\\Ecommerce_AB_Testing_Project\\image\\funnel_by_group.png\n"
     ]
    },
    {
     "data": {
      "image/png": "[encoded data removed]",
      "text/plain": [
       "<Figure size 432x288 with 1 Axes>"
      ]
     },
     "metadata": {
      "needs_background": "light"
     },
     "output_type": "display_data"
    },
    {
     "name": "stdout",
     "output_type": "stream",
     "text": [
      "Saved: C:\\Users\\Dhairr\\Dhairya Projects\\Ecommerce_AB_Testing_Project\\image\\conversion_rate_by_group_kpi.png\n"
     ]
    }
   ],
   "source": [
    "# STEP 7 — Funnel simulation (landing_page → conversion) + clean charts\n",
    "\n",
    "from pathlib import Path\n",
    "import pandas as pd\n",
    "import matplotlib.pyplot as plt\n",
    "\n",
    "# Paths\n",
    "NB = Path.cwd()\n",
    "BASE = NB.parent if NB.name.lower() == \"notebooks\" else NB\n",
    "IMAGES = BASE / \"image\"\n",
    "IMAGES.mkdir(parents=True, exist_ok=True)\n",
    "\n",
    "# ---------- Funnel by landing_page ----------\n",
    "# Older-pandas friendly aggregation (no named-agg)\n",
    "f_lp = (\n",
    "    df.groupby('landing_page')[['user_id','converted']]\n",
    "      .agg({'user_id':'count', 'converted':'sum'})\n",
    "      .rename(columns={'user_id':'exposed'})\n",
    "      .assign(conv_rate=lambda x: x['converted'] / x['exposed'])\n",
    "      .sort_index()\n",
    ")\n",
    "print(\"Funnel by landing_page\")\n",
    "display(f_lp)\n",
    "\n",
    "# Plot 1: Exposed vs Converted by page\n",
    "plt.figure(figsize=(7,4))\n",
    "width = 0.35\n",
    "x = range(len(f_lp))\n",
    "labels = [s.replace('_',' ').title() for s in f_lp.index]\n",
    "\n",
    "plt.bar([i - width/2 for i in x], f_lp['exposed'], width, label='Exposed')\n",
    "plt.bar([i + width/2 for i in x], f_lp['converted'], width, label='Converted')\n",
    "plt.xticks(list(x), labels)\n",
    "plt.title(\"Funnel by Landing Page\")\n",
    "plt.ylabel(\"Users\")\n",
    "plt.legend()\n",
    "out1 = IMAGES / \"funnel_by_landing_page.png\"\n",
    "plt.tight_layout(); plt.savefig(out1, dpi=150); plt.show()\n",
    "print(\"Saved:\", out1)\n",
    "\n",
    "# Plot 2: Conversion rate by page\n",
    "plt.figure(figsize=(6,4))\n",
    "bars = plt.bar(labels, f_lp['conv_rate'])\n",
    "plt.title(\"Conversion Rate by Landing Page\")\n",
    "plt.ylabel(\"Conversion Rate\")\n",
    "for b in bars:\n",
    "    y = b.get_height()\n",
    "    plt.text(b.get_x()+b.get_width()/2, y + 0.002, f\"{y:.2%}\",\n",
    "             ha='center', va='bottom', fontsize=11, weight='bold')\n",
    "plt.ylim(0, f_lp['conv_rate'].max() + 0.01)\n",
    "out2 = IMAGES / \"conversion_rate_by_landing_page.png\"\n",
    "plt.tight_layout(); plt.savefig(out2, dpi=150); plt.show()\n",
    "print(\"Saved:\", out2)\n",
    "\n",
    "# ---------- Funnel by A/B group ----------\n",
    "f_grp = (\n",
    "    df.groupby('group')[['user_id','converted']]\n",
    "      .agg({'user_id':'count', 'converted':'sum'})\n",
    "      .rename(columns={'user_id':'exposed'})\n",
    "      .assign(conv_rate=lambda x: x['converted'] / x['exposed'])\n",
    "      .sort_index()\n",
    ")\n",
    "print(\"\\nFunnel by group\")\n",
    "display(f_grp)\n",
    "\n",
    "# Plot 3: Exposed vs Converted by group\n",
    "plt.figure(figsize=(7,4))\n",
    "x = range(len(f_grp))\n",
    "plt.bar([i - width/2 for i in x], f_grp['exposed'], width, label='Exposed')\n",
    "plt.bar([i + width/2 for i in x], f_grp['converted'], width, label='Converted')\n",
    "plt.xticks(list(x), list(f_grp.index))\n",
    "plt.title(\"Funnel by Group (A vs B)\")\n",
    "plt.ylabel(\"Users\")\n",
    "plt.legend()\n",
    "out3 = IMAGES / \"funnel_by_group.png\"\n",
    "plt.tight_layout(); plt.savefig(out3, dpi=150); plt.show()\n",
    "print(\"Saved:\", out3)\n",
    "\n",
    "# Plot 4: Conversion rate by group\n",
    "plt.figure(figsize=(6,4))\n",
    "bars = plt.bar(list(f_grp.index), f_grp['conv_rate'])\n",
    "plt.title(\"Conversion Rate by Group\")\n",
    "plt.ylabel(\"Conversion Rate\")\n",
    "for b in bars:\n",
    "    y = b.get_height()\n",
    "    plt.text(b.get_x()+b.get_width()/2, y + 0.002, f\"{y:.2%}\",\n",
    "             ha='center', va='bottom', fontsize=11, weight='bold')\n",
    "plt.ylim(0, f_grp['conv_rate'].max() + 0.01)\n",
    "out4 = IMAGES / \"conversion_rate_by_group_kpi.png\"\n",
    "plt.tight_layout(); plt.savefig(out4, dpi=150); plt.show()\n",
    "print(\"Saved:\", out4)"
   ]
  },
  {
   "cell_type": "code",
   "execution_count": 13,
   "metadata": {},
   "outputs": [
    {
     "data": {
      "image/png": "[encoded data removed]",
      "text/plain": [
       "<Figure size 864x432 with 5 Axes>"
      ]
     },
     "metadata": {
      "needs_background": "light"
     },
     "output_type": "display_data"
    },
    {
     "name": "stdout",
     "output_type": "stream",
     "text": [
      "Dashboard saved to: C:\\Users\\Dhairr\\Dhairya Projects\\Ecommerce_AB_Testing_Project\\image\\dashboard_mock.png\n"
     ]
    }
   ],
   "source": [
    "# STEP 8 — Simulated Power BI / Tableau style dashboard in Python\n",
    "import matplotlib.pyplot as plt\n",
    "\n",
    "# Calculate summary metrics\n",
    "conv_A = f_grp.loc['A','conv_rate']\n",
    "conv_B = f_grp.loc['B','conv_rate']\n",
    "uplift = (conv_B - conv_A) / conv_A * 100\n",
    "\n",
    "# Create dashboard canvas\n",
    "fig = plt.figure(figsize=(12,6))\n",
    "gs = fig.add_gridspec(2, 3, height_ratios=[1,2])\n",
    "\n",
    "# --- KPI Cards ---\n",
    "ax1 = fig.add_subplot(gs[0,0])\n",
    "ax1.axis(\"off\")\n",
    "ax1.text(0.5, 0.6, f\"A Conversion\\n{conv_A:.2%}\", ha='center', va='center', fontsize=14, weight='bold', color='navy')\n",
    "\n",
    "ax2 = fig.add_subplot(gs[0,1])\n",
    "ax2.axis(\"off\")\n",
    "ax2.text(0.5, 0.6, f\"B Conversion\\n{conv_B:.2%}\", ha='center', va='center', fontsize=14, weight='bold', color='darkred')\n",
    "\n",
    "ax3 = fig.add_subplot(gs[0,2])\n",
    "ax3.axis(\"off\")\n",
    "ax3.text(0.5, 0.6, f\"Uplift\\n{uplift:.2f}%\", ha='center', va='center', fontsize=14, weight='bold', color='green' if uplift>0 else 'red')\n",
    "\n",
    "# --- Funnel by landing_page ---\n",
    "ax4 = fig.add_subplot(gs[1,0:2])\n",
    "f_lp[['exposed','converted']].plot(kind='bar', ax=ax4, color=['#1f77b4','#ff7f0e'])\n",
    "ax4.set_title(\"Funnel by Landing Page\")\n",
    "ax4.set_ylabel(\"Users\")\n",
    "ax4.legend()\n",
    "\n",
    "# --- Conversion rates by group ---\n",
    "ax5 = fig.add_subplot(gs[1,2])\n",
    "bars = ax5.bar(f_grp.index, f_grp['conv_rate'], color=['#1f77b4','#ff7f0e'])\n",
    "ax5.set_title(\"Conversion Rate by Group\")\n",
    "ax5.set_ylim(0, max(f_grp['conv_rate'])+0.01)\n",
    "for b in bars:\n",
    "    y = b.get_height()\n",
    "    ax5.text(b.get_x()+b.get_width()/2, y+0.001, f\"{y:.2%}\", ha='center', va='bottom', fontsize=10, weight='bold')\n",
    "\n",
    "# Save simulated dashboard\n",
    "dash_path = IMAGES / \"dashboard_mock.png\"\n",
    "plt.tight_layout()\n",
    "plt.savefig(dash_path, dpi=150)\n",
    "plt.show()\n",
    "\n",
    "print(\"Dashboard saved to:\", dash_path)"
   ]
  },
  {
   "cell_type": "code",
   "execution_count": 14,
   "metadata": {},
   "outputs": [
    {
     "name": "stdout",
     "output_type": "stream",
     "text": [
      "Metrics summary saved:\n",
      " - C:\\Users\\Dhairr\\Dhairya Projects\\Ecommerce_AB_Testing_Project\\reports\\ab_test_summary.json\n",
      " - C:\\Users\\Dhairr\\Dhairya Projects\\Ecommerce_AB_Testing_Project\\reports\\ab_test_summary.csv\n"
     ]
    }
   ],
   "source": [
    "# STEP 9 — Export metrics summary (CSV + JSON)\n",
    "\n",
    "import json\n",
    "import pandas as pd\n",
    "\n",
    "# Prepare summary dictionary with key metrics\n",
    "summary = {\n",
    "    \"Group A\": {\n",
    "        \"n\": int(f_grp.loc['A','exposed']),\n",
    "        \"conversions\": int(f_grp.loc['A','converted']),\n",
    "        \"conversion_rate\": round(float(f_grp.loc['A','conv_rate']), 4)\n",
    "    },\n",
    "    \"Group B\": {\n",
    "        \"n\": int(f_grp.loc['B','exposed']),\n",
    "        \"conversions\": int(f_grp.loc['B','converted']),\n",
    "        \"conversion_rate\": round(float(f_grp.loc['B','conv_rate']), 4)\n",
    "    },\n",
    "    \"Comparison\": {\n",
    "        \"absolute_diff\": round(float(conv_B - conv_A), 4),\n",
    "        \"relative_lift_percent\": round(float(uplift), 2),\n",
    "        \"z_score\": round(float(z), 3),\n",
    "        \"ztest_p_value\": round(float(p_value), 6),\n",
    "        \"chi2_stat\": round(float(chi2), 3),\n",
    "        \"chi2_p_value\": round(float(p), 6)\n",
    "    },\n",
    "    \"Confidence Interval (95%)\": {\n",
    "        \"low\": round(float(ci_low), 4),\n",
    "        \"high\": round(float(ci_high), 4)\n",
    "    }\n",
    "}\n",
    "\n",
    "# Paths\n",
    "REPORTS = BASE / \"reports\"\n",
    "REPORTS.mkdir(parents=True, exist_ok=True)\n",
    "\n",
    "# Save JSON\n",
    "json_path = REPORTS / \"ab_test_summary.json\"\n",
    "with open(json_path, \"w\") as f:\n",
    "    json.dump(summary, f, indent=4)\n",
    "\n",
    "# Save CSV (flatten dictionary for BI friendliness)\n",
    "csv_path = REPORTS / \"ab_test_summary.csv\"\n",
    "pd.DataFrame(summary).to_csv(csv_path)\n",
    "\n",
    "print(\"Metrics summary saved:\")\n",
    "print(\" -\", json_path)\n",
    "print(\" -\", csv_path)"
   ]
  },
  {
   "cell_type": "code",
   "execution_count": null,
   "metadata": {},
   "outputs": [],
   "source": []
  }
 ],
 "metadata": {
  "kernelspec": {
   "display_name": "Python 3",
   "language": "python",
   "name": "python3"
  },
  "language_info": {
   "codemirror_mode": {
    "name": "ipython",
    "version": 3
   },
   "file_extension": ".py",
   "mimetype": "text/x-python",
   "name": "python",
   "nbconvert_exporter": "python",
   "pygments_lexer": "ipython3",
   "version": "3.7.3"
  }
 },
 "nbformat": 4,
 "nbformat_minor": 2
}
